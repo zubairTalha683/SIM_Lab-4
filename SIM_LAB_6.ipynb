{
  "nbformat": 4,
  "nbformat_minor": 0,
  "metadata": {
    "colab": {
      "provenance": [],
      "authorship_tag": "ABX9TyN04k4kzfJ/pY5omqS8IrDw",
      "include_colab_link": true
    },
    "kernelspec": {
      "name": "python3",
      "display_name": "Python 3"
    },
    "language_info": {
      "name": "python"
    }
  },
  "cells": [
    {
      "cell_type": "markdown",
      "metadata": {
        "id": "view-in-github",
        "colab_type": "text"
      },
      "source": [
        "<a href=\"https://colab.research.google.com/github/zubairTalha683/SIM_Lab-4/blob/main/SIM_LAB_6.ipynb\" target=\"_parent\"><img src=\"https://colab.research.google.com/assets/colab-badge.svg\" alt=\"Open In Colab\"/></a>"
      ]
    },
    {
      "cell_type": "code",
      "execution_count": 2,
      "metadata": {
        "colab": {
          "base_uri": "https://localhost:8080/",
          "height": 750
        },
        "id": "9v-zJ2vt1b87",
        "outputId": "c43ce9a6-6e7a-4fdf-8e43-91b1ebce9599"
      },
      "outputs": [
        {
          "output_type": "stream",
          "name": "stdout",
          "text": [
            "Null Hypothesis (H0): μ1 = μ2\n",
            "Alternative Hypothesis (H1): μ1 ≠ μ2\n",
            "Variance assumption: Equal variances assumed (small samples, no evidence of heteroscedasticity)\n",
            "\n",
            "Group 1 mean: 18.48\n",
            "Group 2 mean: 20.30\n",
            "Group 1 sample variance: 0.202\n",
            "Group 2 sample variance: 0.025\n",
            "Difference in means: -1.82\n",
            "Calculated t-statistic: -8.54\n",
            "Degrees of freedom: 8\n",
            "Two-tailed p-value: 0.0000\n",
            "95% CI for mean difference: [-2.31, -1.33]\n",
            "Reject H0. There is significant evidence that the population means differ.\n"
          ]
        },
        {
          "output_type": "display_data",
          "data": {
            "text/plain": [
              "<Figure size 700x500 with 1 Axes>"
            ],
            "image/png": "[encoded data removed]"
          },
          "metadata": {}
        }
      ],
      "source": [
        "import numpy as np\n",
        "from scipy import stats\n",
        "import matplotlib.pyplot as plt\n",
        "\n",
        "# Assignment data\n",
        "sample1 = np.array([18.4, 19.1, 17.9, 18.7, 18.3])\n",
        "sample2 = np.array([20.2, 20.5, 20.1, 20.3, 20.4])\n",
        "\n",
        "# Task 1: State hypotheses and variance assumption\n",
        "print(\"Null Hypothesis (H0): μ1 = μ2\")\n",
        "print(\"Alternative Hypothesis (H1): μ1 ≠ μ2\")\n",
        "print(\"Variance assumption: Equal variances assumed (small samples, no evidence of heteroscedasticity)\")\n",
        "print()\n",
        "\n",
        "# Task 2: Calculate descriptive statistics\n",
        "mean1 = np.mean(sample1)\n",
        "mean2 = np.mean(sample2)\n",
        "var1 = np.var(sample1, ddof=1)\n",
        "var2 = np.var(sample2, ddof=1)\n",
        "diff_means = mean1 - mean2\n",
        "\n",
        "print(f\"Group 1 mean: {mean1:.2f}\")\n",
        "print(f\"Group 2 mean: {mean2:.2f}\")\n",
        "print(f\"Group 1 sample variance: {var1:.3f}\")\n",
        "print(f\"Group 2 sample variance: {var2:.3f}\")\n",
        "print(f\"Difference in means: {diff_means:.2f}\")\n",
        "\n",
        "# Calculate sample sizes\n",
        "size1 = len(sample1)\n",
        "size2 = len(sample2)\n",
        "\n",
        "# Compute pooled variance estimate\n",
        "pooled_variance = ((size1 - 1) * var1 + (size2 - 1) * var2) / (size1 + size2 - 2)\n",
        "\n",
        "# Calculate standard error of difference\n",
        "se_diff = np.sqrt(pooled_variance * (1/size1 + 1/size2))\n",
        "\n",
        "# Task 3: Perform t-test and get test statistics\n",
        "t_stat, p_val = stats.ttest_ind(sample1, sample2, equal_var=True)\n",
        "degrees_freedom = size1 + size2 - 2\n",
        "\n",
        "print(f\"Calculated t-statistic: {t_stat:.2f}\")\n",
        "print(f\"Degrees of freedom: {degrees_freedom}\")\n",
        "print(f\"Two-tailed p-value: {p_val:.4f}\")\n",
        "\n",
        "# Task 4: Calculate confidence interval for mean difference\n",
        "confidence_level = 0.95\n",
        "alpha_level = 1 - confidence_level\n",
        "critical_t = stats.t.ppf(1 - alpha_level/2, degrees_freedom)\n",
        "margin_of_error = critical_t * se_diff\n",
        "ci_lower = diff_means - margin_of_error\n",
        "ci_upper = diff_means + margin_of_error\n",
        "\n",
        "print(f\"95% CI for mean difference: [{ci_lower:.2f}, {ci_upper:.2f}]\")\n",
        "\n",
        "# Task 5: Make statistical decision\n",
        "significance_level = 0.05\n",
        "if p_val < significance_level:\n",
        "    decision = \"Reject H0. There is significant evidence that the population means differ.\"\n",
        "else:\n",
        "    decision = \"Fail to reject H0. There is insufficient evidence that the population means differ.\"\n",
        "\n",
        "print(decision)\n",
        "\n",
        "# Create visualization\n",
        "fig, ax = plt.subplots(figsize=(7, 5))\n",
        "group_names = ['Group 1', 'Group 2']\n",
        "means = [mean1, mean2]\n",
        "std_devs = [np.std(sample1, ddof=1), np.std(sample2, ddof=1)]\n",
        "\n",
        "bars = ax.bar(group_names, means, color=['skyblue', 'orange'], alpha=0.8)\n",
        "ax.errorbar(group_names, means, yerr=std_devs, fmt='none', color='black', capsize=8)\n",
        "ax.set_ylabel('Mean Values')\n",
        "ax.set_title('Comparison of Group Means')\n",
        "ax.grid(axis='y', alpha=0.3)\n",
        "plt.tight_layout()\n",
        "plt.show()"
      ]
    },
    {
      "cell_type": "code",
      "source": [],
      "metadata": {
        "id": "IJd-IXvq2jN6"
      },
      "execution_count": 2,
      "outputs": []
    }
  ]
}